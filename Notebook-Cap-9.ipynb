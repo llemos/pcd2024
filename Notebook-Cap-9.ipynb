{
 "cells": [
  {
   "cell_type": "markdown",
   "metadata": {},
   "source": [
    "Capítulo 9\n",
    "==========\n",
    "\n"
   ]
  },
  {
   "cell_type": "markdown",
   "metadata": {},
   "source": [
    "**Nome**:\n",
    "\n",
    "**RM**:\n",
    "\n",
    "**Data**:\n",
    "\n"
   ]
  },
  {
   "cell_type": "markdown",
   "metadata": {},
   "source": [
    "## 9.1 Executando meu primeiro código em um Supercomputador!\n",
    "\n"
   ]
  },
  {
   "cell_type": "markdown",
   "metadata": {},
   "source": [
    "### Questão [A]\n",
    "\n"
   ]
  },
  {
   "cell_type": "markdown",
   "metadata": {},
   "source": [
    "Vamos executar nosso primeiro código na Heisenberg, vamos utilizar a biblioteca os, pois ela executa código do sistema. Execute o comando abaixo:"
   ]
  },
  {
   "cell_type": "code",
   "execution_count": 1,
   "metadata": {},
   "outputs": [
    {
     "ename": "AttributeError",
     "evalue": "module 'os' has no attribute 'uname'",
     "output_type": "error",
     "traceback": [
      "\u001b[1;31m---------------------------------------------------------------------------\u001b[0m",
      "\u001b[1;31mAttributeError\u001b[0m                            Traceback (most recent call last)",
      "Cell \u001b[1;32mIn[1], line 2\u001b[0m\n\u001b[0;32m      1\u001b[0m \u001b[38;5;28;01mimport\u001b[39;00m \u001b[38;5;21;01mos\u001b[39;00m\n\u001b[1;32m----> 2\u001b[0m myhost \u001b[38;5;241m=\u001b[39m \u001b[43mos\u001b[49m\u001b[38;5;241;43m.\u001b[39;49m\u001b[43muname\u001b[49m()[\u001b[38;5;241m1\u001b[39m]\n\u001b[0;32m      3\u001b[0m \u001b[38;5;28mprint\u001b[39m(myhost)\n",
      "\u001b[1;31mAttributeError\u001b[0m: module 'os' has no attribute 'uname'"
     ]
    }
   ],
   "source": [
    "import os\n",
    "myhost = os.uname()[1]\n",
    "print(myhost)"
   ]
  },
  {
   "cell_type": "markdown",
   "metadata": {},
   "source": [
    "O que este código está fazendo é imprimir o hostname da máquina, assim podemos notar que ele está sendo de fato executado na Heisenberg, e não em sua máquina localmente."
   ]
  },
  {
   "cell_type": "markdown",
   "metadata": {},
   "source": [
    "### Questão [B]\n",
    "\n"
   ]
  },
  {
   "cell_type": "markdown",
   "metadata": {},
   "source": [
    "Vamos agora utilizar um código de um desafio do capítulo 6.\n",
    "Este código encontra os primos de uma faixa de números."
   ]
  },
  {
   "cell_type": "code",
   "execution_count": null,
   "metadata": {},
   "outputs": [],
   "source": [
    "import time\n",
    "\n",
    "def encontrarprimos(start,end):\n",
    "    listadeprimos = set()\n",
    "    for i in range(start,end+1):\n",
    "            notprime = 0\n",
    "            for j in range(start+1,int(end/2)):\n",
    "                    if i % j == 0 and i != j:\n",
    "                            notprime = 1\n",
    "                            break\n",
    "            if notprime == 0:\n",
    "                    listadeprimos.add(i)\n",
    "    return listadeprimos\n",
    "\n",
    "tic = time.perf_counter()\n",
    "print(sorted(encontrarprimos(1,30000)))\n",
    "toc = time.perf_counter()\n",
    "print(f\"O código rodou em {toc - tic:0.4f} segundos\")\n"
   ]
  },
  {
   "cell_type": "markdown",
   "metadata": {},
   "source": [
    "Você espera que este código rode mais rápido ou mais devagar que em seu laptop?<br>\n",
    "Rode ele em um Jupyter Notebook rascunho no seu computador e compare os tempos.<br>\n",
    "O que você observou? Alguma ideia do porque desse resultado?"
   ]
  },
  {
   "cell_type": "markdown",
   "metadata": {},
   "source": [
    "### Questão [C]\n",
    "\n"
   ]
  },
  {
   "cell_type": "markdown",
   "metadata": {},
   "source": [
    "Agora vamos aprender a instalar pacotes no seu ambiente ilumpy da Heisenberg.\n",
    "Tente executar o código abaixo:"
   ]
  },
  {
   "cell_type": "code",
   "execution_count": null,
   "metadata": {},
   "outputs": [],
   "source": [
    "import os\n",
    "\n",
    "import numpy as np\n",
    "import time\n",
    "\n",
    "a = np.random.random((10000, 10000))\n",
    "\n",
    "tic = time.perf_counter()\n",
    "np.linalg.inv(a)\n",
    "toc = time.perf_counter()\n",
    "print(f\"O código rodou em {toc - tic:0.4f} segundos\")"
   ]
  },
  {
   "cell_type": "markdown",
   "metadata": {},
   "source": [
    "Você terá um erro dizendo: No module named 'numpy'<br>\n",
    "Isso acontece porque não há numpy instalado no seu ambiente ilumpy. Para instalar o numpy, vá a seu PowerShell e digite o seguinte:<br>\n",
    "pip install numpy"
   ]
  },
  {
   "cell_type": "markdown",
   "metadata": {},
   "source": [
    "Agora, execute novamente o código acima, ele deve funcionar corretamente."
   ]
  },
  {
   "cell_type": "markdown",
   "metadata": {},
   "source": [
    "### Questão [D]\n",
    "\n"
   ]
  },
  {
   "cell_type": "markdown",
   "metadata": {},
   "source": [
    "Rode o mesmo código da questão [C] em seu laptop. Qual foi a performance, mais rápida ou mais lenta no seu Laptop?"
   ]
  },
  {
   "cell_type": "markdown",
   "metadata": {},
   "source": [
    "Notem que, ao rodar no seu laptop o código utilizará 100% dos seus processadores. Isso ocorre porque o numpy utiliza bibliotecas matemáticas otimizadas e paralelas, logo, todos os recursos disponíveis serão utilizados.\n",
    "No caso da Heisenberg, vocês tem 1 core alocado, e o numpy utilizará apenas este core."
   ]
  },
  {
   "cell_type": "markdown",
   "metadata": {},
   "source": [
    "### Questão [E]\n",
    "\n",
    "Agora vamos alocar três cores para o seu job na Heisenberg.<br>\n",
    "Primeiro vamos editar o arquivo job.sh, abra o seu WinSCP e navague até a pasta work.<br>\n",
    "Na pasta work, clique com o botão direito no arquivo job.sh e clique em editar. Um bloco de notas irá abrir, observe que as três primeiras linhas do script contém o seguinte:<br>\n",
    "<br>\n",
    "#!/bin/bash<br>\n",
    "#SBATCH -n 1<br>\n",
    "#SBATCH --ntasks-per-node=1<br>\n",
    "<br>\n",
    "Modique para o seguinte:<br>\n",
    "<br>\n",
    "#!/bin/bash<br>\n",
    "#SBATCH -n 3<br>\n",
    "#SBATCH --ntasks-per-node=3<br>\n",
    "<br>\n",
    "Perfeito, salve esse Jupyter Notebook! Isso é importante!\n",
    "Agora digite no seu PowerShell o seguinte: squeue -u seu_usuário.<br>\n",
    "Algo como o seguinte deve aparecer:<br>\n",
    "<br>\n",
    "             JOBID PARTITION     NAME     USER ST       TIME  NODES NODELIST(REASON)<br>\n",
    "               531      head   job.sh    james  R    1:30:19      1 headnode<br>\n",
    "<br>\n",
    "O seu JOBID, é o número do job que está rodando, devemos cancelá-lo!<br>\n",
    "Digite o seguinte no seu PowerShell: scancel JOBID<br>\n",
    "Obviamente substitiundo o JOBID pelo seu número de job, no caso do exemplo dado seria: scancel 531.<br>\n",
    "<br>\n",
    "Agora digite no PowerShell: sbatch job.sh<br>\n",
    "Um novo job foi submetido, agora você deve conferir o novo arquivo slurm gerado, copiar o link gerado e abrir em uma nova janela do navegador. Após abrir essa nova janela, feche a janela antiga que estava aberto o Jupyter.\n",
    "\n",
    "Passe a usar a nova janela agora."
   ]
  },
  {
   "cell_type": "markdown",
   "metadata": {},
   "source": [
    "### Questão [F]\n",
    "\n",
    "Vamos executar novamente o código de inverter matrizes do numpy:"
   ]
  },
  {
   "cell_type": "code",
   "execution_count": null,
   "metadata": {},
   "outputs": [],
   "source": [
    "import os\n",
    "\n",
    "import numpy as np\n",
    "import time\n",
    "\n",
    "a = np.random.random((10000, 10000))\n",
    "\n",
    "tic = time.perf_counter()\n",
    "np.linalg.inv(a)\n",
    "toc = time.perf_counter()\n",
    "print(f\"O código rodou em {toc - tic:0.4f} segundos\")"
   ]
  },
  {
   "cell_type": "markdown",
   "metadata": {},
   "source": [
    "Em quanto tempo o código rodou agora? Foi mais rápido que o código anterior, com o job de um core?"
   ]
  },
  {
   "cell_type": "markdown",
   "metadata": {},
   "source": [
    "## Playground\n",
    "\n"
   ]
  },
  {
   "cell_type": "code",
   "execution_count": null,
   "metadata": {},
   "outputs": [],
   "source": []
  },
  {
   "cell_type": "markdown",
   "metadata": {},
   "source": [
    "## Diário de bordo\n",
    "\n"
   ]
  },
  {
   "cell_type": "markdown",
   "metadata": {},
   "source": []
  },
  {
   "cell_type": "code",
   "execution_count": null,
   "metadata": {},
   "outputs": [],
   "source": []
  }
 ],
 "metadata": {
  "kernelspec": {
   "display_name": "Python 3 (ipykernel)",
   "language": "python",
   "name": "python3"
  },
  "language_info": {
   "codemirror_mode": {
    "name": "ipython",
    "version": 3
   },
   "file_extension": ".py",
   "mimetype": "text/x-python",
   "name": "python",
   "nbconvert_exporter": "python",
   "pygments_lexer": "ipython3",
   "version": "3.9.13"
  },
  "org": null
 },
 "nbformat": 4,
 "nbformat_minor": 4
}
